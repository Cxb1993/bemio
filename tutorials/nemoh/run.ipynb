{
 "metadata": {
  "name": "",
  "signature": "sha256:63d5fcdc6b3ce714e3dafafd8565f9b1d4c8b8d55dfce00a830401679b2b1ca3"
 },
 "nbformat": 3,
 "nbformat_minor": 0,
 "worksheets": [
  {
   "cells": [
    {
     "cell_type": "markdown",
     "metadata": {},
     "source": [
      "## NEMOH\n",
      "The following code describes the steps involved in using ``bemio`` to read, process, and save NEMOH coefficients. This code can be viewed in ``$BEMIO_SOURCE/tutorials/nemon/run.py``. An ipython notebook with the code is also provided in ``$BEMIO_SOURCE/tutorials/nemon/run.ipynb``."
     ]
    },
    {
     "cell_type": "markdown",
     "metadata": {},
     "source": [
      "### Enable inline plots in the iPython notebook"
     ]
    },
    {
     "cell_type": "code",
     "collapsed": false,
     "input": [
      "%matplotlib inline"
     ],
     "language": "python",
     "metadata": {},
     "outputs": []
    },
    {
     "cell_type": "markdown",
     "metadata": {},
     "source": [
      "### Load the nemoh module from bemio.io #\n",
      "This module provides functionality to read, dimensionalize, visualizes the data."
     ]
    },
    {
     "cell_type": "code",
     "collapsed": false,
     "input": [
      "from bemio.io import nemoh"
     ],
     "language": "python",
     "metadata": {},
     "outputs": []
    },
    {
     "cell_type": "markdown",
     "metadata": {},
     "source": [
      "### Load the bem data object from bemio.data_structures #\n",
      "This module provides the functionality to save the data in the SHDF"
     ]
    },
    {
     "cell_type": "code",
     "collapsed": false,
     "input": [
      "from bemio.data_structures import bem"
     ],
     "language": "python",
     "metadata": {},
     "outputs": []
    },
    {
     "cell_type": "markdown",
     "metadata": {},
     "source": [
      "### Read the Nemoh simulation data from the "
     ]
    },
    {
     "cell_type": "code",
     "collapsed": false,
     "input": [
      "nemoh_data = nemoh.NemohOutput(sim_dir='./data/two_body', cal_file='Nemoh.cal', results_dir='Results', mesh_dir='Mesh', out_name='./data/two_body.out')"
     ],
     "language": "python",
     "metadata": {},
     "outputs": []
    },
    {
     "cell_type": "markdown",
     "metadata": {},
     "source": [
      "### Read the hydrostatic and IH files\n",
      "These files must be read individually for each body as shown below"
     ]
    },
    {
     "cell_type": "code",
     "collapsed": false,
     "input": [
      "nemoh_data.read_hydrostatics(body_num=0,file='./data/two_body/Mesh/Hydrostatics_0.dat')\n",
      "nemoh_data.read_kh(body_num=0, file='./data/two_body/Mesh/KH_0.dat')\n",
      "nemoh_data.read_hydrostatics(body_num=1,file='./data/two_body/Mesh/Hydrostatics_1.dat')\n",
      "nemoh_data.read_kh(body_num=1, file='./data/two_body/Mesh/KH_1.dat')"
     ],
     "language": "python",
     "metadata": {},
     "outputs": []
    },
    {
     "cell_type": "markdown",
     "metadata": {},
     "source": [
      "### Calculate the IRF and state space coefficients\n",
      "t_end, n_t and n_w are set to small numbers so the calculations run quickly. It is recommended that numbers are changed to 100, 1001, and 1001, respectively, for best accuracy of the IRF and state space coefficients."
     ]
    },
    {
     "cell_type": "code",
     "collapsed": false,
     "input": [
      "for i in xrange(nemoh_data.data[0].num_bodies):\n",
      "\tnemoh_data.data[i].calc_irf(t_end=50, n_t=101, n_w=201)\n",
      "\tnemoh_data.data[i].calc_ss()"
     ],
     "language": "python",
     "metadata": {},
     "outputs": []
    },
    {
     "cell_type": "markdown",
     "metadata": {},
     "source": [
      "### Plot the surge and heave components of added mass and radiation damping for body 0"
     ]
    },
    {
     "cell_type": "code",
     "collapsed": false,
     "input": [
      "comps_to_plot = [[0,0],[2,2]]\n",
      "nemoh_data.data[0].plot_am_rd(comps_to_plot)"
     ],
     "language": "python",
     "metadata": {},
     "outputs": []
    },
    {
     "cell_type": "markdown",
     "metadata": {},
     "source": [
      "### Write the data to the bemio data file format for use with WEC-Sim"
     ]
    },
    {
     "cell_type": "code",
     "collapsed": false,
     "input": [
      "bem.write_hdf5(data=nemoh_data.data, out_file=nemoh_data.files['hdf5'])"
     ],
     "language": "python",
     "metadata": {},
     "outputs": []
    }
   ],
   "metadata": {}
  }
 ]
}